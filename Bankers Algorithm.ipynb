{
 "cells": [
  {
   "cell_type": "code",
   "execution_count": 39,
   "id": "26910b25",
   "metadata": {},
   "outputs": [
    {
     "name": "stdout",
     "output_type": "stream",
     "text": [
      "Following is the SAFE Sequence\n",
      " P1 -> P3 -> P4 -> P0 -> P2\n"
     ]
    }
   ],
   "source": [
    "if __name__==\"__main__\":\n",
    "    n = 5\n",
    "    m = 3\n",
    "    alloc = [[0, 1, 0 ],[ 2, 0, 0 ],\n",
    "            [3, 0, 2 ],[2, 1, 1] ,[ 0, 0, 2]]\n",
    "    max = [[7, 5, 3 ],[3, 2, 2 ],\n",
    "            [ 9, 0, 2 ],[2, 2, 2],[4, 3, 3]]     \n",
    "    avail = [3, 3, 2]     \n",
    "    f = [0]*n\n",
    "    ans = [0]*n\n",
    "    ind = 0\n",
    "    for k in range(n):\n",
    "        f[k] = 0         \n",
    "    need = [[ 0 for i in range(m)]for i in range(n)]\n",
    "    for i in range(n):\n",
    "        for j in range(m):\n",
    "            need[i][j] = max[i][j] - alloc[i][j]\n",
    "    y = 0\n",
    "    for k in range(5):\n",
    "        for i in range(n):\n",
    "            if (f[i] == 0):\n",
    "                flag = 0\n",
    "                for j in range(m):\n",
    "                    if (need[i][j] > avail[j]):\n",
    "                        flag = 1\n",
    "                        break                 \n",
    "                if (flag == 0):\n",
    "                    ans[ind] = i\n",
    "                    ind += 1\n",
    "                    for y in range(m):\n",
    "                        avail[y] += alloc[i][y]\n",
    "                    f[i] = 1                     \n",
    "    print(\"Following is the SAFE Sequence\")     \n",
    "    for i in range(n - 1):\n",
    "        print(\" P\", ans[i], \" ->\", sep=\"\", end=\"\")\n",
    "    print(\" P\", ans[n - 1], sep=\"\") "
   ]
  },
  {
   "cell_type": "code",
   "execution_count": null,
   "id": "c77eaada",
   "metadata": {},
   "outputs": [],
   "source": []
  }
 ],
 "metadata": {
  "kernelspec": {
   "display_name": "Python 3 (ipykernel)",
   "language": "python",
   "name": "python3"
  },
  "language_info": {
   "codemirror_mode": {
    "name": "ipython",
    "version": 3
   },
   "file_extension": ".py",
   "mimetype": "text/x-python",
   "name": "python",
   "nbconvert_exporter": "python",
   "pygments_lexer": "ipython3",
   "version": "3.9.12"
  }
 },
 "nbformat": 4,
 "nbformat_minor": 5
}
