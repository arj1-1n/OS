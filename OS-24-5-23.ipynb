{
 "cells": [
  {
   "cell_type": "code",
   "execution_count": 13,
   "id": "a7993095",
   "metadata": {},
   "outputs": [
    {
     "name": "stdout",
     "output_type": "stream",
     "text": [
      "Enter array size: 5\n",
      "Enter number: 9\n",
      "Enter number: 8\n",
      "Enter number: 7\n",
      "Enter number: 6\n",
      "Enter number: 5\n",
      "Sorted list: [5, 6, 7, 8, 9]\n"
     ]
    }
   ],
   "source": [
    "def sort(s):\n",
    "    n=s\n",
    "    a=list()\n",
    "    for i in range (n):\n",
    "        no=int(input(\"Enter number: \"))\n",
    "        a.append(no)\n",
    "    for i in range(n):\n",
    "        for j in range(n-i-1):\n",
    "            if a[j] > a[j + 1]:\n",
    "                tmp=a[j]\n",
    "                a[j]=a[j+1]\n",
    "                a[j+1]=tmp\n",
    "    print(\"Sorted list:\", a)\n",
    "size=int(input(\"Enter array size: \"))\n",
    "sort(size)"
   ]
  },
  {
   "cell_type": "code",
   "execution_count": 14,
   "id": "cfb3020c",
   "metadata": {},
   "outputs": [
    {
     "name": "stdout",
     "output_type": "stream",
     "text": [
      "Enter array size: 5\n",
      "Enter number: 9\n",
      "Enter number: 8\n",
      "Enter number: 7\n",
      "Enter number: 6\n",
      "Enter number: 5\n",
      "Sorted array: [5, 6, 7, 8, 9]\n"
     ]
    }
   ],
   "source": [
    "def sortar(a):\n",
    "    n=len(a)\n",
    "    for i in range (n):\n",
    "        for j in range(n-i-1):\n",
    "            if(a[j]>a[j+1]):\n",
    "                tmp=a[j]\n",
    "                a[j]=a[j+1]\n",
    "                a[j+1]=tmp\n",
    "size=int(input(\"Enter array size: \"))\n",
    "arr=list()\n",
    "for i in range (size):\n",
    "    arr.append(int(input(\"Enter number: \")))\n",
    "sortar(arr)\n",
    "print(\"Sorted array:\",arr)"
   ]
  },
  {
   "cell_type": "code",
   "execution_count": null,
   "id": "39204202",
   "metadata": {},
   "outputs": [],
   "source": []
  }
 ],
 "metadata": {
  "kernelspec": {
   "display_name": "Python 3 (ipykernel)",
   "language": "python",
   "name": "python3"
  },
  "language_info": {
   "codemirror_mode": {
    "name": "ipython",
    "version": 3
   },
   "file_extension": ".py",
   "mimetype": "text/x-python",
   "name": "python",
   "nbconvert_exporter": "python",
   "pygments_lexer": "ipython3",
   "version": "3.9.12"
  }
 },
 "nbformat": 4,
 "nbformat_minor": 5
}
