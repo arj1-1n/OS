{
 "cells": [
  {
   "cell_type": "code",
   "execution_count": 2,
   "id": "2b4ac006",
   "metadata": {},
   "outputs": [
    {
     "name": "stdout",
     "output_type": "stream",
     "text": [
      "Number of words in text file : 5\n"
     ]
    }
   ],
   "source": [
    "file = open(\"data.txt\", \"rt\")\n",
    "data = file.read()\n",
    "words = data.split()\n",
    "print('Number of words in text file :', len(words))"
   ]
  },
  {
   "cell_type": "code",
   "execution_count": 3,
   "id": "745c9620",
   "metadata": {},
   "outputs": [
    {
     "name": "stdout",
     "output_type": "stream",
     "text": [
      "This is the first line\n",
      "This is the second line\n",
      "This is the third line\n"
     ]
    }
   ],
   "source": [
    "with open('file.txt', 'w') as f:\n",
    "    data = ['This is the first line', 'This is the second line', 'This is the third line']\n",
    "    for line in data:\n",
    "        f.write(line + '\\n')\n",
    "        print(line)"
   ]
  },
  {
   "cell_type": "code",
   "execution_count": null,
   "id": "b95452ba",
   "metadata": {},
   "outputs": [],
   "source": []
  }
 ],
 "metadata": {
  "kernelspec": {
   "display_name": "Python 3 (ipykernel)",
   "language": "python",
   "name": "python3"
  },
  "language_info": {
   "codemirror_mode": {
    "name": "ipython",
    "version": 3
   },
   "file_extension": ".py",
   "mimetype": "text/x-python",
   "name": "python",
   "nbconvert_exporter": "python",
   "pygments_lexer": "ipython3",
   "version": "3.9.12"
  }
 },
 "nbformat": 4,
 "nbformat_minor": 5
}
